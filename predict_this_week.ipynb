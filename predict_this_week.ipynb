{
 "cells": [
  {
   "cell_type": "markdown",
   "metadata": {},
   "source": [
    "# Objective:\n",
    "\n",
    "This file predicts the outcome of a week's college football games. This file requires the input of month, day, and year, and loads in the relevant information, and predicts who will win each game. \n",
    "\n",
    "The predictions are saved to `predictions_<month>_<day>_<year>.csv`."
   ]
  },
  {
   "cell_type": "markdown",
   "metadata": {},
   "source": [
    "## Import Libraries"
   ]
  },
  {
   "cell_type": "code",
   "execution_count": 1,
   "metadata": {},
   "outputs": [],
   "source": [
    "# Data Manipulation\n",
    "import pandas as pd\n",
    "\n",
    "# Schedule Retrieval\n",
    "from this_weeks_games import get_this_weeks_games\n",
    "\n",
    "# Model Loading\n",
    "import joblib"
   ]
  },
  {
   "cell_type": "markdown",
   "metadata": {},
   "source": [
    "`get_game_data`:  gets the offensive and defensive statistics for the `home_team` and `away_team`. \n",
    "\n",
    "Uses `offense_df` and `defense_df`.\n",
    "\n",
    "Returns Pandas DataFrame with `X` feature space, used for ML predictions."
   ]
  },
  {
   "cell_type": "code",
   "execution_count": 2,
   "metadata": {},
   "outputs": [],
   "source": [
    "def get_game_data(home_team: str, away_team: str, offense_df: pd.DataFrame, defense_df: pd.DataFrame) -> pd.DataFrame:\n",
    "\thome_offense = offense_df.query('team == @home_team')[[x for x in offense_df.columns if 'remove' not in x and x != 'team']].astype('float').reset_index(drop=True)\n",
    "\thome_defense = defense_df.query('team == @home_team')[[x for x in offense_df.columns if 'remove' not in x and x != 'team']].astype('float').reset_index(drop=True)\n",
    "\taway_offense = offense_df.query('team == @away_team')[[x for x in offense_df.columns if 'remove' not in x and x != 'team']].astype('float').reset_index(drop=True)\n",
    "\taway_defense = defense_df.query('team == @away_team')[[x for x in offense_df.columns if 'remove' not in x and x != 'team']].astype('float').reset_index(drop=True)\n",
    "\n",
    "\tgame_df = pd.merge(home_offense, home_defense, left_index=True, right_index=True, suffixes=('_home_off', '_home_def'))\n",
    "\tgame_df = pd.merge(game_df, away_offense, left_index=True, right_index=True, suffixes=('', '_away_off'))\n",
    "\tgame_df = pd.merge(game_df, away_defense, left_index=True, right_index=True, suffixes=('', '_away_off'))\n",
    "\n",
    "\treturn game_df"
   ]
  },
  {
   "cell_type": "markdown",
   "metadata": {},
   "source": [
    "## Load in Helper Data\n",
    "\n",
    "Loads in `offense_df` and `defense_df`, which help `get_game_data` get the data for each matchup. "
   ]
  },
  {
   "cell_type": "code",
   "execution_count": 3,
   "metadata": {},
   "outputs": [],
   "source": [
    "offense_df = pd.read_csv('data/offense.csv')\n",
    "defense_df = pd.read_csv('data/defense.csv')"
   ]
  },
  {
   "cell_type": "markdown",
   "metadata": {},
   "source": [
    "## Load in schedule for this week\n",
    "\n",
    "Uses the `get_this_weeks_games` function from `week_games.ipynb`."
   ]
  },
  {
   "cell_type": "code",
   "execution_count": 4,
   "metadata": {},
   "outputs": [],
   "source": [
    "month = 10\n",
    "day = 22\n",
    "year = 2022\n",
    "\n",
    "games_this_week = get_this_weeks_games(month=month, day=day, year=year)"
   ]
  },
  {
   "cell_type": "markdown",
   "metadata": {},
   "source": [
    "## Create `X` feature space\n",
    "\n",
    "Aggregates each game's `X` feature space (`game_df`) into `X_weekend`."
   ]
  },
  {
   "cell_type": "code",
   "execution_count": 5,
   "metadata": {},
   "outputs": [],
   "source": [
    "home_teams = []\n",
    "away_teams = []\n",
    "\n",
    "X_weekend = None\n",
    "\n",
    "for home_team, away_team in zip(games_this_week['home_teams'], games_this_week['away_teams']):\n",
    "\tX_game = get_game_data(home_team, away_team, offense_df, defense_df)\n",
    "\n",
    "\tif X_game.shape[0] != 1:\n",
    "\t\tcontinue\n",
    "\n",
    "\thome_teams.append(home_team)\n",
    "\taway_teams.append(away_team)\n",
    "\n",
    "\tif X_weekend is None:\n",
    "\t\tX_weekend = X_game\n",
    "\telse:\n",
    "\t\tX_weekend = pd.concat((X_weekend, X_game))"
   ]
  },
  {
   "cell_type": "markdown",
   "metadata": {},
   "source": [
    "## Load Trained Model\n",
    "\n",
    "Loads in best machine learning model as `clf`."
   ]
  },
  {
   "cell_type": "code",
   "execution_count": 6,
   "metadata": {},
   "outputs": [
    {
     "name": "stderr",
     "output_type": "stream",
     "text": [
      "/Users/mattcallicott/opt/anaconda3/envs/playground/lib/python3.8/site-packages/scipy/__init__.py:138: UserWarning: A NumPy version >=1.16.5 and <1.23.0 is required for this version of SciPy (detected version 1.23.3)\n",
      "  warnings.warn(f\"A NumPy version >={np_minversion} and <{np_maxversion} is required for this version of \"\n"
     ]
    }
   ],
   "source": [
    "clf = joblib.load('models/cfb_model.joblib')"
   ]
  },
  {
   "cell_type": "markdown",
   "metadata": {},
   "source": [
    "## Predict Game Outcomes\n",
    "\n",
    "Creates `weekend_df` and predicts winner of each game. `win_prob` contains the probability the home team wins. Writes output to `predictions_<month>_<day>_<year>.csv`."
   ]
  },
  {
   "cell_type": "code",
   "execution_count": 7,
   "metadata": {},
   "outputs": [],
   "source": [
    "weekend_df = pd.DataFrame(\n",
    "\t{\n",
    "\t\t'home_teams': home_teams,\n",
    "\t\t'away_teams': away_teams,\n",
    "\t\t'win_prob': clf.predict_proba(X_weekend)[:, 1]\n",
    "\t}\n",
    ")\n",
    "\n",
    "weekend_df['winner'] = weekend_df.apply(lambda row: row['home_teams'] if row['win_prob'] >= 0.5 else row['away_teams'], axis=1)\n",
    "\n",
    "weekend_df.to_csv(f'predictions/predictions_{month}_{day}_{year}.csv', index=False)"
   ]
  },
  {
   "cell_type": "code",
   "execution_count": null,
   "metadata": {},
   "outputs": [],
   "source": []
  }
 ],
 "metadata": {
  "kernelspec": {
   "display_name": "Python 3.8.10 ('playground')",
   "language": "python",
   "name": "python3"
  },
  "language_info": {
   "codemirror_mode": {
    "name": "ipython",
    "version": 3
   },
   "file_extension": ".py",
   "mimetype": "text/x-python",
   "name": "python",
   "nbconvert_exporter": "python",
   "pygments_lexer": "ipython3",
   "version": "3.8.10"
  },
  "orig_nbformat": 4,
  "vscode": {
   "interpreter": {
    "hash": "c3b47c5f1c35f5ce04a4d0eaadcc6048a4991d4555138ee298068969dd3a7b16"
   }
  }
 },
 "nbformat": 4,
 "nbformat_minor": 2
}
